{
  "nbformat": 4,
  "nbformat_minor": 0,
  "metadata": {
    "colab": {
      "provenance": [],
      "include_colab_link": true
    },
    "kernelspec": {
      "name": "python3",
      "display_name": "Python 3"
    },
    "language_info": {
      "name": "python"
    }
  },
  "cells": [
    {
      "cell_type": "markdown",
      "metadata": {
        "id": "view-in-github",
        "colab_type": "text"
      },
      "source": [
        "<a href=\"https://colab.research.google.com/github/Olesya-Mo/Ideal_learner_model/blob/main/Sequence_generator.ipynb\" target=\"_parent\"><img src=\"https://colab.research.google.com/assets/colab-badge.svg\" alt=\"Open In Colab\"/></a>"
      ]
    },
    {
      "cell_type": "code",
      "execution_count": null,
      "metadata": {
        "id": "m2l4CKOYpqUK"
      },
      "outputs": [],
      "source": [
        "#import the necessary packages\n",
        "\n",
        "import random\n",
        "import pymc\n",
        "import math\n",
        "import numpy as np\n",
        "from collections import OrderedDict\n",
        "import seaborn as sns\n",
        "import matplotlib.pyplot as plt\n",
        "from collections import Counter"
      ]
    },
    {
      "cell_type": "code",
      "source": [
        "#store the sequences in the dict or anywhere\n",
        "#random.seed does not work for some reason\n",
        "#how to make it go into the formulas\n",
        "#likelihood for each loc at each trial "
      ],
      "metadata": {
        "id": "Hkg-b3c9mmEH"
      },
      "execution_count": null,
      "outputs": []
    },
    {
      "cell_type": "code",
      "source": [
        "#define the main variables: number of sequences, subjects, trials, locations, probabilities of locations appearing,\n",
        "#levels of complexity. \n",
        "\n",
        "nseq = 10 #number of sequences\n",
        "ntrial = 10 #number of trials in each sequence\n",
        "nsubj = 40 #number of subjects\n",
        "locations = [1,2,3,4] #locations/boxes\n",
        "\n",
        "seq = np.empty([nseq, ntrial], dtype=int) #creating an empty array to fill it with sequences\n",
        "weights = np.empty([nseq,len(locations)]) #creating weights for different sequences\n",
        "\n",
        "#the percentage of times the target would appear in the \"main\" box\n",
        "seq_complexity = OrderedDict({'easy': [1, 0, 0, 0]\n",
        "                     , 'moderate_1':  [0.8, 0.2/3, 0.2/3, 0.2/3]\n",
        "                     , 'moderate_2':  [0.6, 0.4/3, 0.4/3, 0.4/3]\n",
        "                     , 'difficult':   [0.25, 0.25, 0.25, 0.25]})\n",
        "\n",
        "#seq_order = random.choices(list(seq_complexity.keys()), k=nseq, weights=[0.2,0.3,0.3,0.2]) #randomizing the order of the sequences to account for fatigue and exclude influence of toys\n",
        "#seq_order = random.choices(sequences, k=nseq, weights=[0.2,0.3,0.3,0.2])\n",
        "#sequences = ['easy','easy','moderate_1','moderate_1','moderate_1','moderate_2','moderate_2','moderate_2','difficult','difficult']\n"
      ],
      "metadata": {
        "id": "dOge-grKS0i3"
      },
      "execution_count": null,
      "outputs": []
    },
    {
      "cell_type": "code",
      "source": [
        "#create a function that creates sequences. The order of sequences, the locations are pseudorandomized.\n",
        "#sequences_list variable makes it so that there are enough sequences of each level of complexity -\n",
        "#as we are mostly interested in moderate level, there are more of those, and less of easy and difficult sequences \n",
        "\n",
        "def create_sequences():\n",
        "    random.seed(12)\n",
        "    sequences_list = ['easy', 'easy', 'moderate_1', 'moderate_1', 'moderate_1', \n",
        "                      'moderate_2', 'moderate_2', 'moderate_2', 'difficult', 'difficult']\n",
        "    random.shuffle(sequences_list)\n",
        "    for i in range(nseq):\n",
        "        #sequences = {}\n",
        "        sequences = []\n",
        "        seq_complexity_i = seq_complexity.get(sequences_list[i])\n",
        "        loc_prob = seq_complexity_i / np.sum(seq_complexity_i)\n",
        "        np.random.shuffle(locations)\n",
        "        seq[i] = random.choices(locations, k=ntrial,weights=loc_prob)\n",
        "        #sequences.__setitem__('seq[i]','sequences_list[i]') \n",
        "        sequences.append({'seq': seq,'complexity_level': sequences_list[i]})\n",
        "    return seq, sequences\n",
        "\n",
        "#The create_sequences function is defined to generate the sequences of target locations for each trial of each sequence. \n",
        "#The function first shuffles a list of sequence complexity levels, then for each sequence, \n",
        "#it selects a complexity level from the shuffled list, calculates the probability of the target \n",
        "#appearing in each location based on the selected complexity level, shuffles the location list, \n",
        "#and uses the random.choices function to randomly select a location for each trial of the sequence \n",
        "#based on the calculated location probabilities. \n",
        "#The generated sequences are stored in the seq array.\n"
      ],
      "metadata": {
        "id": "hsFQkyWAfPvn"
      },
      "execution_count": null,
      "outputs": []
    },
    {
      "cell_type": "code",
      "source": [
        "#with random.sample - if we need not true probabilities but just the amount of times the target appears? \n",
        "#the plots will look more \"diverse\" because of that - otherwise, random.choices adheres to the probabilities,\n",
        "#so it really takes 80% _probability_, not 80% of _the times_ the target appears\n",
        "\n",
        "def create_sequences():\n",
        "    random.seed(12)\n",
        "    sequences_list = ['easy', 'easy', 'moderate_1', 'moderate_1', 'moderate_1', 'moderate_2', 'moderate_2', 'moderate_2', 'difficult', 'difficult']\n",
        "    random.shuffle(sequences_list)\n",
        "    for i in range(nseq):\n",
        "        seq_complexity_i = seq_complexity.get(sequences_list[i])\n",
        "        loc_prob = seq_complexity_i / np.sum(seq_complexity_i)\n",
        "        np.random.shuffle(locations)\n",
        "        seq[i] = random.sample(locations*int(ntrial*np.sum(seq_complexity_i)),ntrial)\n",
        "    return seq\n",
        "\n"
      ],
      "metadata": {
        "id": "LYZtPQ3DXjaS"
      },
      "execution_count": null,
      "outputs": []
    },
    {
      "cell_type": "code",
      "source": [
        "#can not make it store the level of complexity and a corresponding array!\n",
        "#so now it is not clear what level of complexity is where because it is all shuffled!\n",
        "\n",
        "\n",
        "create_sequences()\n"
      ],
      "metadata": {
        "colab": {
          "base_uri": "https://localhost:8080/",
          "height": 35
        },
        "id": "Zg9CnI8oeZCT",
        "outputId": "0e7ac655-f633-465d-8eca-dbb9a0e14591"
      },
      "execution_count": null,
      "outputs": [
        {
          "output_type": "execute_result",
          "data": {
            "text/plain": [
              "'moderate_2'"
            ],
            "application/vnd.google.colaboratory.intrinsic+json": {
              "type": "string"
            }
          },
          "metadata": {},
          "execution_count": 104
        }
      ]
    },
    {
      "cell_type": "code",
      "source": [
        "\n",
        "seq[1]"
      ],
      "metadata": {
        "colab": {
          "base_uri": "https://localhost:8080/"
        },
        "id": "DgzAglzIob7A",
        "outputId": "62a2cc6e-0c7d-4028-c03c-2095aecf6092"
      },
      "execution_count": null,
      "outputs": [
        {
          "output_type": "execute_result",
          "data": {
            "text/plain": [
              "array([3, 1, 3, 4, 3, 4, 1, 4, 4, 3])"
            ]
          },
          "metadata": {},
          "execution_count": 138
        }
      ]
    },
    {
      "cell_type": "code",
      "source": [
        "#create a figure with 10 subplots to look at the sequences\n",
        "sns.set()\n",
        "fig, axes = plt.subplots(nrows=2, ncols=5, figsize=(10, 5))\n",
        "\n",
        "#flatten the axes array so that we can iterate over it easily\n",
        "axes = axes.ravel()\n",
        "\n",
        "for i, ax in enumerate(axes):\n",
        "    ax.scatter(range(len(seq[i])), seq[i], s=50, c='b', marker='o', edgecolors='black')\n",
        "    ax.set_title(\"Sequence {}\".format(i+1))\n",
        "    ax.set_xlabel(sequences[i]) #NOT CORRRECT\n",
        "    ax.set_ylim(0.6,4.3)\n",
        "    ax.set_xlim(-0.6, 10)\n",
        "\n",
        "plt.tight_layout(pad=2)\n",
        "plt.show()\n"
      ],
      "metadata": {
        "id": "bVs6qhJm-F6h",
        "colab": {
          "base_uri": "https://localhost:8080/",
          "height": 343
        },
        "outputId": "92c74029-1d5a-42b4-dd5b-94d9019706c8"
      },
      "execution_count": null,
      "outputs": [
        {
          "output_type": "display_data",
          "data": {
            "text/plain": [
              "<Figure size 720x360 with 10 Axes>"
            ],
            "image/png": "[encoded data removed]"
          },
          "metadata": {}
        }
      ]
    },
    {
      "cell_type": "code",
      "source": [
        "# Create a figure with 10 subplots\n",
        "fig, axes = plt.subplots(nrows=2, ncols=5, figsize=(10, 5))\n",
        "\n",
        "# Flatten the axes array so that we can iterate over it easily\n",
        "axes = axes.ravel()\n",
        "\n",
        "# Iterate over the data arrays and plot their distributions in the corresponding subplot\n",
        "for i, ax in enumerate(axes):\n",
        "    sns.histplot(seq[i], kde=True, ax=ax)\n",
        "    ax.set_title(\"Sequence {}\".format(i+1))\n",
        "    ax.set_xlabel(sequences[i])\n",
        "\n",
        "\n",
        "# Make the plots look nice\n",
        "plt.tight_layout()\n",
        "plt.show()\n"
      ],
      "metadata": {
        "colab": {
          "base_uri": "https://localhost:8080/",
          "height": 365
        },
        "id": "_IJTlAp-Vj_V",
        "outputId": "99b045f7-1bae-4f72-c427-dbf5295d67db"
      },
      "execution_count": null,
      "outputs": [
        {
          "output_type": "display_data",
          "data": {
            "text/plain": [
              "<Figure size 720x360 with 10 Axes>"
            ],
            "image/png": "[encoded data removed]"
          },
          "metadata": {}
        }
      ]
    },
    {
      "cell_type": "code",
      "source": [
        "#create the necessary formulas for IG (KLD), surprise (negative logarithm), \n",
        "#predictive accuracy (not applicable for now: needs an additional model),\n",
        "#additionaly, likelihood (p) of each event calculated\n",
        "\n",
        "def kl_divergence(p, q):\n",
        "    return sum(p[i] * np.log(p[i]/q[i]) for i in range(len(p)))\n",
        "\n",
        "def neg_log(p):\n",
        "    return -(math.log2(p))\n",
        "\n",
        "def bayesian_likelihood(arr, number):\n",
        "    likelihood = []\n",
        "    n = len(arr)\n",
        "    for i in range(n):\n",
        "        if arr[i] == number:\n",
        "            count = np.count_nonzero(arr[:i+1] == number)\n",
        "            likelihood.append((count + 1) / (i + 2 + len(set(arr))))\n",
        "    return likelihood\n"
      ],
      "metadata": {
        "id": "R2_QMG6OrDnc"
      },
      "execution_count": null,
      "outputs": []
    },
    {
      "cell_type": "code",
      "source": [
        "#just looking how it works\n",
        "print(seq[0])\n",
        "print('1:', bayesian_likelihood(seq[0], 1))\n",
        "print('2:', bayesian_likelihood(seq[0], 2))\n",
        "print('3:', bayesian_likelihood(seq[0], 3))\n",
        "print('4:', bayesian_likelihood(seq[0], 4))\n",
        "\n",
        "#maybe store it in the dict "
      ],
      "metadata": {
        "colab": {
          "base_uri": "https://localhost:8080/"
        },
        "id": "kJETIUotsWay",
        "outputId": "d106e031-fe38-4f52-857e-0d29ecf353ee"
      },
      "execution_count": null,
      "outputs": [
        {
          "output_type": "stream",
          "name": "stdout",
          "text": [
            "[2 1 4 3 3 2 4 1 1 3]\n",
            "1: [0.2857142857142857, 0.23076923076923078, 0.2857142857142857]\n",
            "2: [0.3333333333333333, 0.2727272727272727]\n",
            "3: [0.2222222222222222, 0.3, 0.26666666666666666]\n",
            "4: [0.25, 0.25]\n"
          ]
        }
      ]
    },
    {
      "cell_type": "code",
      "source": [
        "prob = bayesian_likelihood(seq[0], 1)\n",
        "\n",
        "p = prob[0]\n",
        "q = prob[1]\n",
        "\n",
        "surp_p = neg_log(p) #surprise of number 1 in the sequence 1 when it first occurs (1 time)\n",
        "\n",
        "\n",
        "#bayesian_likelihood(seq[0], 2))\n",
        "#print('3:', bayesian_likelihood(seq[0], 3))\n",
        "#print('4:', bayesian_likelihood(seq[0], 4))"
      ],
      "metadata": {
        "id": "rWje6p4St4fu"
      },
      "execution_count": null,
      "outputs": []
    },
    {
      "cell_type": "code",
      "source": [
        "neg_log(p)"
      ],
      "metadata": {
        "colab": {
          "base_uri": "https://localhost:8080/"
        },
        "id": "Pch6e_sFtqLI",
        "outputId": "1ca8dae6-287d-4ae0-ded8-fa700c648878"
      },
      "execution_count": null,
      "outputs": [
        {
          "output_type": "execute_result",
          "data": {
            "text/plain": [
              "1.8073549220576042"
            ]
          },
          "metadata": {},
          "execution_count": 184
        }
      ]
    },
    {
      "cell_type": "code",
      "source": [
        "#create the model\n",
        "\n",
        "#use sequences and formulas to create ideal learner, plot\n",
        "\n",
        "#assign distributions to LT, LA, Performance\n",
        "\n",
        "#sample from the distribtuions to create simulated data\n",
        "\n",
        "#"
      ],
      "metadata": {
        "id": "ecPCdVASvEA3"
      },
      "execution_count": null,
      "outputs": []
    },
    {
      "cell_type": "code",
      "source": [],
      "metadata": {
        "id": "PcijCjZ8Xcfy"
      },
      "execution_count": null,
      "outputs": []
    },
    {
      "cell_type": "code",
      "source": [],
      "metadata": {
        "id": "wATwXZc0XcdR"
      },
      "execution_count": null,
      "outputs": []
    },
    {
      "cell_type": "code",
      "source": [],
      "metadata": {
        "id": "jQwVa0UlXcay"
      },
      "execution_count": null,
      "outputs": []
    },
    {
      "cell_type": "code",
      "source": [],
      "metadata": {
        "id": "4EFoizAzXcYK"
      },
      "execution_count": null,
      "outputs": []
    },
    {
      "cell_type": "code",
      "source": [],
      "metadata": {
        "id": "m3u0iVvxXcVp"
      },
      "execution_count": null,
      "outputs": []
    },
    {
      "cell_type": "code",
      "source": [],
      "metadata": {
        "id": "n2OYPzKfXcTD"
      },
      "execution_count": null,
      "outputs": []
    },
    {
      "cell_type": "code",
      "source": [],
      "metadata": {
        "id": "9eNXyrZ5XcQs"
      },
      "execution_count": null,
      "outputs": []
    },
    {
      "cell_type": "code",
      "source": [],
      "metadata": {
        "id": "eBwD_lC8XcOa"
      },
      "execution_count": null,
      "outputs": []
    },
    {
      "cell_type": "code",
      "source": [],
      "metadata": {
        "id": "vl9jHMpIXcMJ"
      },
      "execution_count": null,
      "outputs": []
    },
    {
      "cell_type": "code",
      "source": [],
      "metadata": {
        "id": "o8TtlmC0XcJh"
      },
      "execution_count": null,
      "outputs": []
    },
    {
      "cell_type": "code",
      "source": [],
      "metadata": {
        "id": "_piEZh4hXcGC"
      },
      "execution_count": null,
      "outputs": []
    },
    {
      "cell_type": "code",
      "source": [],
      "metadata": {
        "id": "31PybbaLXcDi"
      },
      "execution_count": null,
      "outputs": []
    },
    {
      "cell_type": "code",
      "source": [],
      "metadata": {
        "id": "1oSK2d4_XcBT"
      },
      "execution_count": null,
      "outputs": []
    },
    {
      "cell_type": "code",
      "source": [],
      "metadata": {
        "id": "2HcBUiFLXb-5"
      },
      "execution_count": null,
      "outputs": []
    },
    {
      "cell_type": "code",
      "source": [],
      "metadata": {
        "id": "5tKWyXItXb8S"
      },
      "execution_count": null,
      "outputs": []
    },
    {
      "cell_type": "code",
      "source": [],
      "metadata": {
        "id": "kjKF5wY7Xb0K"
      },
      "execution_count": null,
      "outputs": []
    },
    {
      "cell_type": "code",
      "source": [],
      "metadata": {
        "id": "aXlp6byN-GCp"
      },
      "execution_count": null,
      "outputs": []
    },
    {
      "cell_type": "code",
      "source": [],
      "metadata": {
        "id": "9U60rQeQ-GH5"
      },
      "execution_count": null,
      "outputs": []
    },
    {
      "cell_type": "code",
      "source": [],
      "metadata": {
        "id": "M2l8Azfy-GPq"
      },
      "execution_count": null,
      "outputs": []
    },
    {
      "cell_type": "code",
      "source": [
        "################ Compute KL Divergence ########################################\n",
        "    # First, set flat prior for counts\n",
        "    flat_count = np.ones(shape=(len(subj_idx),4))\n",
        "    # Compute probabilities of seeing the given target in any given location\n",
        "    probs = (counts+flat_count)/np.sum(counts+flat_count,axis=1).reshape((counts.shape[0], 1))\n",
        "    prev_probs = (prev_counts+flat_count)/np.sum(prev_counts+flat_count,axis=1).reshape((counts.shape[0], 1))\n",
        "    # Compute KL-Divergence for every trial\n",
        "    kl =  np.sum(probs*np.log2(probs/prev_probs),axis=1)\n",
        "    kl = theano.shared(kl.astype(\"float64\"))"
      ],
      "metadata": {
        "id": "jhWdf3Ym-F_4"
      },
      "execution_count": null,
      "outputs": []
    },
    {
      "cell_type": "code",
      "source": [
        "import matplotlib.pyplot as plt\n",
        "\n",
        "# Create a figure with 10 subplots\n",
        "fig, axes = plt.subplots(nrows=2, ncols=5, figsize=(10, 5))\n",
        "\n",
        "# Flatten the axes array so that we can iterate over it easily\n",
        "axes = axes.ravel()\n",
        "\n",
        "# Iterate over the data arrays and plot them in the corresponding subplot\n",
        "for i, ax in enumerate(axes):\n",
        "    ax.plot(seq[i])\n",
        "    ax.set_title(\"Data {}\".format(i+1))\n",
        "\n",
        "# Make the plots look nice\n",
        "plt.tight_layout()\n",
        "plt.show()\n"
      ],
      "metadata": {
        "id": "iQr8GE5d-FzB",
        "colab": {
          "base_uri": "https://localhost:8080/",
          "height": 369
        },
        "outputId": "1ad3a75b-2aab-434d-b066-42f7568a929e"
      },
      "execution_count": null,
      "outputs": [
        {
          "output_type": "display_data",
          "data": {
            "text/plain": [
              "<Figure size 720x360 with 10 Axes>"
            ],
            "image/png": "[encoded data removed]"
          },
          "metadata": {
            "needs_background": "light"
          }
        }
      ]
    },
    {
      "cell_type": "code",
      "source": [
        "#instead of using the random.choices function, we first repeat the locations array \n",
        "#by int(ntrial*np.sum(seq_complexity_i)) times and then use the random.sample function \n",
        "#to select ntrial unique random integers from the repeated locations array.\n",
        "\n",
        "def create_sequences():\n",
        "    random.seed(12)\n",
        "    sequences_list = ['easy', 'easy', 'moderate_1', 'moderate_1', 'moderate_1', 'moderate_2', 'moderate_2', 'moderate_2', 'difficult', 'difficult']\n",
        "    random.shuffle(sequences_list)\n",
        "    for i in range(nseq):\n",
        "        np.random.shuffle(locations)\n",
        "        seq[i] = random.choices(locations, k=ntrial,weights=seq_complexity.get(sequences_list[i]))\n",
        "    return seq"
      ],
      "metadata": {
        "id": "e9KYiqVBfqkD"
      },
      "execution_count": null,
      "outputs": []
    },
    {
      "cell_type": "code",
      "source": [
        "def likelihood(array):\n",
        "  #the prior distribution is uniform\n",
        "  #let's create a dictionary\n",
        "  occurrence = {1: 0, 2: 0, 3: 0, 4: 0} #\n",
        "  #iterate over the arrays\n",
        "  for loc in array:\n",
        "    occurrence[loc] += 1\n",
        "    \n",
        "    #divide the likelihood of each locations by the total number of locations in the array\n",
        "    #and the uniform prior probability of the number\n",
        "  uniform_prior = 1/len(occurrence)\n",
        "  for loc in occurrence:\n",
        "    occurrence[loc] = (occurrence[loc] + uniform_prior)/(ntrial + len(occurrence))\n",
        "  return occurrence "
      ],
      "metadata": {
        "id": "__0yQ8-7olvx"
      },
      "execution_count": null,
      "outputs": []
    }
  ]
}